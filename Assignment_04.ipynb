{
 "cells": [
  {
   "cell_type": "code",
   "execution_count": 2,
   "metadata": {},
   "outputs": [
    {
     "name": "stdout",
     "output_type": "stream",
     "text": [
      "{'first_name': 'Ahmed', 'last_name': 'Khan', 'age': 18, 'city': 'lahore'}\n"
     ]
    }
   ],
   "source": [
    "info = {'first_name': 'Ahmed', 'last_name': 'Khan', 'age': 18, 'city':'lahore'}\n",
    "print(info)"
   ]
  },
  {
   "cell_type": "code",
   "execution_count": 4,
   "metadata": {},
   "outputs": [
    {
     "name": "stdout",
     "output_type": "stream",
     "text": [
      "first_name :  Ahmed\n",
      "last_name :  Khan\n",
      "age :  18\n",
      "city :  lahore\n"
     ]
    }
   ],
   "source": [
    "for i in info:\n",
    "    print(i,\": \" ,info[i])"
   ]
  },
  {
   "cell_type": "code",
   "execution_count": 5,
   "metadata": {},
   "outputs": [
    {
     "name": "stdout",
     "output_type": "stream",
     "text": [
      "{'first_name': 'Ahmed', 'last_name': 'Khan', 'age': 18, 'city': 'lahore', 'Qualification': 'Intermediate'}\n"
     ]
    }
   ],
   "source": [
    "info['Qualification'] = \"Intermediate\"\n",
    "print(info)"
   ]
  },
  {
   "cell_type": "code",
   "execution_count": 7,
   "metadata": {},
   "outputs": [
    {
     "name": "stdout",
     "output_type": "stream",
     "text": [
      "{'first_name': 'Ahmed', 'last_name': 'Khan', 'age': 18, 'city': 'lahore', 'Qualification': 'Bachelors in CS'}\n"
     ]
    }
   ],
   "source": [
    "updatedQualifiction = {'Qualification': 'Bachelors in CS'}\n",
    "info.update(updatedQualifiction)\n",
    "print(info)"
   ]
  },
  {
   "cell_type": "code",
   "execution_count": 24,
   "metadata": {},
   "outputs": [
    {
     "name": "stdout",
     "output_type": "stream",
     "text": [
      "Karachi\n",
      "Country  :  Pakistan\n",
      "Population  :  14.91 million\n",
      "Fact  :  Karachi is best known for being the business hub of Pakistan\n",
      "Rome\n",
      "Country  :  Italy\n",
      "Population  :  2.873 million\n",
      "Fact  :  Modern Rome has 280 fountains and more than 900 churches.\n",
      "Manchester\n",
      "Country  :  England\n",
      "Population  :  5.4 million\n",
      "Fact  :  Manchester is known for its warehouses, cotton mills, railway viaducts, and canals, as you'd expect from the first modern, industrial city.\n"
     ]
    }
   ],
   "source": [
    "cities = {'Karachi':{'Country':'Pakistan','Population':'14.91 million','Fact':'Karachi is best known for being the business hub of Pakistan'},'Rome':{'Country':'Italy','Population':'2.873 million','Fact':'Modern Rome has 280 fountains and more than 900 churches.'},'Manchester':{'Country':'England','Population':'5.4 million','Fact':'Manchester is known for its warehouses, cotton mills, railway viaducts, and canals, as you\\'d expect from the first modern, industrial city.'}}\n",
    "for i in cities.keys():\n",
    "    print(i)\n",
    "    for k,v in cities[i].items():\n",
    "        print(k,' : ',v)\n",
    "    "
   ]
  },
  {
   "cell_type": "code",
   "execution_count": 31,
   "metadata": {},
   "outputs": [
    {
     "name": "stdout",
     "output_type": "stream",
     "text": [
      "How many tickets you want: 2\n",
      "Enter your age: 5\n",
      "Ticket price is 10$\n",
      "Enter your age: 23\n",
      "Ticket price is 15$\n"
     ]
    }
   ],
   "source": [
    "tickets = int(input('How many tickets you want: '))\n",
    "for i in range(tickets):\n",
    "    user = int(input('Enter your age: '))\n",
    "    if (user < 3):\n",
    "        print('Ticket is free')\n",
    "    elif(user >=3 and user <=12):\n",
    "        print('Ticket price is 10$')\n",
    "    elif(user > 12):\n",
    "        print('Ticket price is 15$')"
   ]
  },
  {
   "cell_type": "code",
   "execution_count": 34,
   "metadata": {},
   "outputs": [
    {
     "name": "stdout",
     "output_type": "stream",
     "text": [
      "One of my favorite books is  aaaa\n"
     ]
    }
   ],
   "source": [
    "def favorite_book(title):\n",
    "    print('One of my favorite books is ',title)\n",
    "favorite_book('aaaa')"
   ]
  },
  {
   "cell_type": "code",
   "execution_count": 7,
   "metadata": {},
   "outputs": [
    {
     "name": "stdout",
     "output_type": "stream",
     "text": [
      "24\n",
      "Guess the hidden no. : 4\n",
      "The hidden no. is greater than 4\n",
      "Guess the hidden no. : 26\n",
      "The hidden no. is less than 26\n",
      "Guess the hidden no. : 24\n",
      "You won\n"
     ]
    }
   ],
   "source": [
    "import random\n",
    "num = random.randint(1,31)\n",
    "for i in range(3):\n",
    "    user = int(input('Guess the hidden no. : '))\n",
    "    if(user == num):\n",
    "        print('You won')\n",
    "        break\n",
    "    elif(user > num):\n",
    "        print('The hidden no. is less than',user)\n",
    "    elif(user < num):\n",
    "        print('The hidden no. is greater than',user)\n"
   ]
  },
  {
   "cell_type": "code",
   "execution_count": null,
   "metadata": {},
   "outputs": [],
   "source": []
  },
  {
   "cell_type": "code",
   "execution_count": null,
   "metadata": {},
   "outputs": [],
   "source": []
  }
 ],
 "metadata": {
  "kernelspec": {
   "display_name": "Python 3",
   "language": "python",
   "name": "python3"
  },
  "language_info": {
   "codemirror_mode": {
    "name": "ipython",
    "version": 3
   },
   "file_extension": ".py",
   "mimetype": "text/x-python",
   "name": "python",
   "nbconvert_exporter": "python",
   "pygments_lexer": "ipython3",
   "version": "3.7.3"
  }
 },
 "nbformat": 4,
 "nbformat_minor": 2
}
