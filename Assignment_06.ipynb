{
 "cells": [
  {
   "cell_type": "code",
   "execution_count": 1,
   "metadata": {},
   "outputs": [
    {
     "name": "stdout",
     "output_type": "stream",
     "text": [
      "object-oriented programming, also known as OOP or OO programming, is a programming language paradigm. In an object-oriented program, the code can be structured as reusable components, some of which may share properties or behaviors.Object-oriented programming can improve the developer's ability to quickly prototype software, extend existing functionality, refactor the code, and maintain it as it's developed.\n"
     ]
    }
   ],
   "source": [
    "print(\"object-oriented programming, also known as OOP or OO programming, is a programming language paradigm. In an object-oriented program, the code can be structured as reusable components, some of which may share properties or behaviors.Object-oriented programming can improve the developer's ability to quickly prototype software, extend existing functionality, refactor the code, and maintain it as it's developed.\")"
   ]
  },
  {
   "cell_type": "code",
   "execution_count": 4,
   "metadata": {},
   "outputs": [
    {
     "name": "stdout",
     "output_type": "stream",
     "text": [
      "1. Simplicity: software objects model real world objects, so the complexity is reduced and the program structure is very clear \n",
      " 2. Modularity: each object forms a separate entity whose internal workings are decoupled from other parts of the system; \n",
      " 3. Modifiability: it is easy to make minor changes in the data representation or the procedures in an OO program. Changes inside a class do not affect any other part of a program, since the only public interface that the external world has to a class is through the use of methods; \n",
      " 4. Extensibility: adding new features or responding to changing operating environments can be solved by introducing a few new objects and modifying some existing ones; \n",
      " 5. Maintainability: objects can be maintained separately, making locating and fixing problems easier; \n",
      " 6. Re-usability: objects can be reused in different programs\n"
     ]
    }
   ],
   "source": [
    "print(\"1. Simplicity: software objects model real world objects, so the complexity is reduced and the program structure is very clear \\n 2. Modularity: each object forms a separate entity whose internal workings are decoupled from other parts of the system; \\n 3. Modifiability: it is easy to make minor changes in the data representation or the procedures in an OO program. Changes inside a class do not affect any other part of a program, since the only public interface that the external world has to a class is through the use of methods; \\n 4. Extensibility: adding new features or responding to changing operating environments can be solved by introducing a few new objects and modifying some existing ones; \\n 5. Maintainability: objects can be maintained separately, making locating and fixing problems easier; \\n 6. Re-usability: objects can be reused in different programs\")"
   ]
  },
  {
   "cell_type": "code",
   "execution_count": 7,
   "metadata": {},
   "outputs": [
    {
     "name": "stdout",
     "output_type": "stream",
     "text": [
      "A function is a piece of code that is called by name. It can be passed data to operate on (i.e. the parameters) and can optionally return data (the return value). All data that is passed to a function is explicitly passed.\n",
      "A method is a piece of code that is called by a name that is associated with an object. In most respects it is identical to a function except for two key differences:\n",
      "A method is implicitly passed the object on which it was called.\n",
      "A method is able to operate on data that is contained within the class (remembering that an object is an instance of a class - the class is the definition, the object is an instance of that data).\n"
     ]
    }
   ],
   "source": [
    "print(\"A function is a piece of code that is called by name. It can be passed data to operate on (i.e. the parameters) and can optionally return data (the return value). All data that is passed to a function is explicitly passed.\")\n",
    "print(\"A method is a piece of code that is called by a name that is associated with an object. In most respects it is identical to a function except for two key differences:\")\n",
    "print(\"A method is implicitly passed the object on which it was called.\")\n",
    "print(\"A method is able to operate on data that is contained within the class (remembering that an object is an instance of a class - the class is the definition, the object is an instance of that data).\")"
   ]
  },
  {
   "cell_type": "code",
   "execution_count": 10,
   "metadata": {},
   "outputs": [
    {
     "name": "stdout",
     "output_type": "stream",
     "text": [
      "Class: A category of objects. The class defines all the common properties of the different objects that belong to it.\n",
      "Object: a self-contained entity that consists of both data and procedures to manipulate the data.\n",
      "Attributes: are data stored inside a class or instance and represent the state or quality of the class or instance. In short, attributes store information about the instance. Also, attributes should not be confused with class functions also known as methods. One can think of attributes as noun or adjective, while methods are the verb of the class. Color, for example, is an attribute of your hair.\n",
      "Behavior. A class's behavior determines how an instance of that class operates; for example, how it will react if asked to do something by another class or object or if its internal state changes. Behavior is the only way objects can do anything to themselves or have anything done to them.\n"
     ]
    }
   ],
   "source": [
    "print(\"Class: A category of objects. The class defines all the common properties of the different objects that belong to it.\")\n",
    "print(\"Object: a self-contained entity that consists of both data and procedures to manipulate the data.\")\n",
    "print(\"Attributes: are data stored inside a class or instance and represent the state or quality of the class or instance. In short, attributes store information about the instance. Also, attributes should not be confused with class functions also known as methods. One can think of attributes as noun or adjective, while methods are the verb of the class. Color, for example, is an attribute of your hair.\")\n",
    "print(\"Behavior. A class's behavior determines how an instance of that class operates; for example, how it will react if asked to do something by another class or object or if its internal state changes. Behavior is the only way objects can do anything to themselves or have anything done to them.\")"
   ]
  },
  {
   "cell_type": "code",
   "execution_count": 27,
   "metadata": {},
   "outputs": [
    {
     "name": "stdout",
     "output_type": "stream",
     "text": [
      "{'model': 2015, 'color': 'White', 'name': 'Civic', 'company': 'Honda', 'madein': 'Japan'}\n",
      "{'model': 2015, 'color': 'Black', 'name': 'Civic', 'company': 'Honda', 'madein': 'Japan'}\n",
      "{'model': '2018', 'color': 'White', 'name': 'Corolla', 'company': 'Toyota', 'madein': 'Japan'}\n",
      "{'model': '2014', 'color': 'Black', 'name': 'Alto', 'company': 'Suzuki', 'madein': 'Japan'}\n",
      "{'model': 2015, 'color': 'Black', 'name': 'G14', 'company': 'BMW', 'madein': 'Germany'}\n"
     ]
    }
   ],
   "source": [
    "class Car:\n",
    "    def __init__(self,name,madein):\n",
    "        self.model = 2015\n",
    "        self.color = 'White'\n",
    "        self.name = name\n",
    "        self.company = 'Honda'\n",
    "        self.madein = madein\n",
    "    def changeColor(self,customColor):\n",
    "        self.color = customColor\n",
    "    def changeComp(self,newComp):\n",
    "        self.company = newComp\n",
    "    def changeModel(self,newModel):\n",
    "        self.model = newModel\n",
    "    \n",
    "obj1 = Car('Civic','Japan')\n",
    "print(obj1.__dict__)\n",
    "\n",
    "obj2 = Car('Civic','Japan')\n",
    "obj2.changeColor('Black')\n",
    "print(obj2.__dict__)\n",
    "\n",
    "obj3 = Car('Corolla','Japan')\n",
    "obj3.changeComp('Toyota')\n",
    "obj3.changeModel('2018')\n",
    "print(obj3.__dict__)\n",
    "\n",
    "\n",
    "obj4 = Car('Alto','Japan')\n",
    "obj4.changeColor('Black')\n",
    "obj4.changeComp('Suzuki')\n",
    "obj4.changeModel('2014')\n",
    "print(obj4.__dict__)\n",
    "\n",
    "obj5 = Car('G14','Germany')\n",
    "obj5.changeColor('Black')\n",
    "obj5.changeComp('BMW')\n",
    "print(obj5.__dict__)"
   ]
  },
  {
   "cell_type": "code",
   "execution_count": null,
   "metadata": {},
   "outputs": [],
   "source": []
  },
  {
   "cell_type": "code",
   "execution_count": null,
   "metadata": {},
   "outputs": [],
   "source": []
  }
 ],
 "metadata": {
  "kernelspec": {
   "display_name": "Python 3",
   "language": "python",
   "name": "python3"
  },
  "language_info": {
   "codemirror_mode": {
    "name": "ipython",
    "version": 3
   },
   "file_extension": ".py",
   "mimetype": "text/x-python",
   "name": "python",
   "nbconvert_exporter": "python",
   "pygments_lexer": "ipython3",
   "version": "3.7.3"
  }
 },
 "nbformat": 4,
 "nbformat_minor": 2
}
