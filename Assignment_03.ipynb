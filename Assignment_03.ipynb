{
 "cells": [
  {
   "cell_type": "code",
   "execution_count": 1,
   "metadata": {},
   "outputs": [
    {
     "name": "stdout",
     "output_type": "stream",
     "text": [
      "WHich operation you want to perform: + - * / pow: pow\n",
      "First num: 4\n",
      "Second num: 2\n",
      "4^2=  16\n"
     ]
    }
   ],
   "source": [
    "operation = input('WHich operation you want to perform: + - * / pow: ')\n",
    "num1 = int(input('First num: '))\n",
    "num2 = int(input('Second num: '))\n",
    "if (operation == '+'):\n",
    "    print(num1 + num2)\n",
    "elif (operation == '-'):\n",
    "    print(num1 - num2)\n",
    "elif (operation == '*'):\n",
    "    print(num1 * num2)\n",
    "elif (operation == '/'):\n",
    "    print(num1 / num2)\n",
    "elif (operation == 'pow'):\n",
    "    print(str(num1) + '^' + str(num2) + '=  ' + str(num1**num2))"
   ]
  },
  {
   "cell_type": "code",
   "execution_count": 2,
   "metadata": {},
   "outputs": [
    {
     "name": "stdout",
     "output_type": "stream",
     "text": [
      "List contain 5 numeric values\n"
     ]
    }
   ],
   "source": [
    "arr = ['a',4,'b','c',6,'d','e','f',8,'g','h',2, 4]\n",
    "count = 0\n",
    "for item in arr:\n",
    "    if(type(item) is int):\n",
    "        count += 1\n",
    "print('List contain ' + str(count) +' numeric values')\n"
   ]
  },
  {
   "cell_type": "code",
   "execution_count": 35,
   "metadata": {},
   "outputs": [
    {
     "name": "stdout",
     "output_type": "stream",
     "text": [
      "{'key1': 'value1', 'key2': 'value2', 'key3': 'value3'}\n"
     ]
    }
   ],
   "source": [
    "dic ={'key1' : 'value1', 'key2' : 'value2'}\n",
    "dic['key3'] = 'value3'\n",
    "print(dic)"
   ]
  },
  {
   "cell_type": "code",
   "execution_count": 34,
   "metadata": {},
   "outputs": [
    {
     "name": "stdout",
     "output_type": "stream",
     "text": [
      "73\n"
     ]
    }
   ],
   "source": [
    "import types\n",
    "\n",
    "sample = {'name':'testing','age':10,\"gender\":'male','weight':60,'height in inches':3}\n",
    "a=0\n",
    "for i in sample.values(): \n",
    "    if (type(i) is int):\n",
    "        a = a + i\n",
    "print(a)"
   ]
  },
  {
   "cell_type": "code",
   "execution_count": 36,
   "metadata": {},
   "outputs": [
    {
     "name": "stdout",
     "output_type": "stream",
     "text": [
      "[4, 'b', 6, 'e']\n"
     ]
    }
   ],
   "source": [
    "arr = ['a',4,'b','c',6,'d','e','f',8,'g','h',2, 4,'b','e',6]\n",
    "repeat = []\n",
    "for i in arr:\n",
    "    count = 0\n",
    "    for j in arr:\n",
    "        if(i == j):\n",
    "            count += 1\n",
    "    if(count>=2):\n",
    "        if(i not in repeat):\n",
    "            repeat.append(i)\n",
    "print(repeat)"
   ]
  },
  {
   "cell_type": "code",
   "execution_count": 37,
   "metadata": {},
   "outputs": [
    {
     "name": "stdout",
     "output_type": "stream",
     "text": [
      "Enter key: name\n",
      "Enter value: hlw\n",
      "Key already exist\n",
      "{'name': 'testing', 'age': 21, 'gender': 'male'}\n"
     ]
    }
   ],
   "source": [
    "detail = {'name':'testing','age':21,\"gender\":'male'}\n",
    "data = input(\"Enter key: \")\n",
    "value = input(\"Enter value: \")\n",
    "flag = 0\n",
    "for item in detail:\n",
    "    if(item == data):\n",
    "        print('Key already exist')\n",
    "        flag = 1\n",
    "if(flag == 0):\n",
    "    detail[data] = value\n",
    "print(detail)"
   ]
  },
  {
   "cell_type": "code",
   "execution_count": null,
   "metadata": {},
   "outputs": [],
   "source": []
  }
 ],
 "metadata": {
  "kernelspec": {
   "display_name": "Python 3",
   "language": "python",
   "name": "python3"
  },
  "language_info": {
   "codemirror_mode": {
    "name": "ipython",
    "version": 3
   },
   "file_extension": ".py",
   "mimetype": "text/x-python",
   "name": "python",
   "nbconvert_exporter": "python",
   "pygments_lexer": "ipython3",
   "version": "3.7.3"
  }
 },
 "nbformat": 4,
 "nbformat_minor": 2
}
