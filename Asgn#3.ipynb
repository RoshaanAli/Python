{
 "cells": [
  {
   "cell_type": "code",
   "execution_count": 10,
   "metadata": {
    "cocalc": {
     "outputs": {
      "0": {
       "name": "input",
       "opts": {
        "password": false,
        "prompt": "WHich operation you want to perform: + - * / pow"
       },
       "output_type": "stream",
       "value": "/"
      },
      "1": {
       "name": "input",
       "opts": {
        "password": false,
        "prompt": "First num: "
       },
       "output_type": "stream",
       "value": "8"
      },
      "2": {
       "name": "input",
       "opts": {
        "password": false,
        "prompt": "Second num: "
       },
       "output_type": "stream",
       "value": "2"
      }
     }
    },
    "collapsed": false
   },
   "outputs": [
    {
     "name": "stdout",
     "output_type": "stream",
     "text": "WHich operation you want to perform: + - * / pow /"
    },
    {
     "name": "stdout",
     "output_type": "stream",
     "text": "First num:  8"
    },
    {
     "name": "stdout",
     "output_type": "stream",
     "text": "Second num:  2"
    },
    {
     "name": "stdout",
     "output_type": "stream",
     "text": [
      "4.0\n"
     ]
    }
   ],
   "source": [
    "operation = input('WHich operation you want to perform: + - * / pow')\n",
    "num1 = int(input('First num: '))\n",
    "num2 = int(input('Second num: '))\n",
    "if (operation == '+'):\n",
    "    print(num1 + num2)\n",
    "elif (operation == '-'):\n",
    "    print(num1 - num2)\n",
    "elif (operation == '*'):\n",
    "    print(num1 * num2)\n",
    "elif (operation == '/'):\n",
    "    print(num1 / num2)\n",
    "elif (operation == 'pow'):\n",
    "    print(str(num1) + '^' + str(num2) + '=  ' + str(num1**num2))"
   ]
  },
  {
   "cell_type": "code",
   "execution_count": 15,
   "metadata": {
    "collapsed": false
   },
   "outputs": [
    {
     "name": "stdout",
     "output_type": "stream",
     "text": [
      "List contain 5 numeric values\n"
     ]
    }
   ],
   "source": [
    "arr = ['a',4,'b','c',6,'d','e','f',8,'g','h',2, 4]\n",
    "count = 0\n",
    "for item in arr:\n",
    "    if(type(item) is int):\n",
    "        count += 1\n",
    "print('List contain ' + str(count) +' numeric values')"
   ]
  },
  {
   "cell_type": "code",
   "execution_count": 20,
   "metadata": {
    "collapsed": false
   },
   "outputs": [
    {
     "name": "stdout",
     "output_type": "stream",
     "text": [
      "{'key1': 'value1', 'key2': 'value2', 'key3': 'value3'}\n"
     ]
    }
   ],
   "source": [
    "dic ={'key1' : 'value1', 'key2' : 'value2'}\n",
    "#print(dic['key2'])\n",
    "dic['key3'] = 'value3'\n",
    "print(dic)"
   ]
  },
  {
   "cell_type": "code",
   "execution_count": 49,
   "metadata": {
    "collapsed": false
   },
   "outputs": [
   ],
   "source": [
    "sample = {'name':'testing','age':10,\"gender\":'male','weight':60,'height in inches':3}\n",
    "for key in sample:\n",
    "    if(type(sample[key])=='int'):\n",
    "        print(isinstance(sample[key]), 'int')\n",
    "    "
   ]
  },
  {
   "cell_type": "code",
   "execution_count": 47,
   "metadata": {
    "collapsed": false
   },
   "outputs": [
    {
     "name": "stdout",
     "output_type": "stream",
     "text": [
      "[4, 'b', 6, 'e']\n"
     ]
    }
   ],
   "source": [
    "arr = ['a',4,'b','c',6,'d','e','f',8,'g','h',2, 4,'b','e',6]\n",
    "repeat = []\n",
    "for i in arr:\n",
    "    count = 0\n",
    "    for j in arr:\n",
    "        if(i == j):\n",
    "            count += 1\n",
    "    if(count>=2):\n",
    "        if(i not in repeat):\n",
    "            repeat.append(i)\n",
    "print(repeat) "
   ]
  },
  {
   "cell_type": "code",
   "execution_count": 16,
   "metadata": {
    "cocalc": {
     "outputs": {
      "0": {
       "name": "input",
       "opts": {
        "password": false,
        "prompt": "Enter key: "
       },
       "output_type": "stream",
       "value": "contact"
      },
      "1": {
       "name": "input",
       "opts": {
        "password": false,
        "prompt": "Enter value: "
       },
       "output_type": "stream",
       "value": "123"
      }
     }
    },
    "collapsed": false
   },
   "outputs": [
    {
     "name": "stdout",
     "output_type": "stream",
     "text": "Enter key:  contact"
    },
    {
     "name": "stdout",
     "output_type": "stream",
     "text": "Enter value:  123"
    },
    {
     "name": "stdout",
     "output_type": "stream",
     "text": [
      "{'name': 'testing', 'age': 21, 'gender': 'male', 'contact': '123'}\n"
     ]
    }
   ],
   "source": [
    "detail = {'name':'testing','age':21,\"gender\":'male'}\n",
    "data = input(\"Enter key: \")\n",
    "value = input(\"Enter value: \")\n",
    "flag = 0\n",
    "for item in detail:\n",
    "    if(item == data):\n",
    "        print('Key already exist')\n",
    "        flag = 1\n",
    "if(flag == 0):\n",
    "    detail[data] = value\n",
    "print(detail)"
   ]
  },
  {
   "cell_type": "code",
   "execution_count": 0,
   "metadata": {
    "collapsed": false
   },
   "outputs": [
   ],
   "source": [
   ]
  }
 ],
 "metadata": {
  "kernelspec": {
   "display_name": "Python 3 (system-wide)",
   "language": "python",
   "metadata": {
    "cocalc": {
     "description": "Python 3 programming language",
     "priority": 100,
     "url": "https://www.python.org/"
    }
   },
   "name": "python3"
  },
  "language_info": {
   "codemirror_mode": {
    "name": "ipython",
    "version": 3
   },
   "file_extension": ".py",
   "mimetype": "text/x-python",
   "name": "python",
   "nbconvert_exporter": "python",
   "pygments_lexer": "ipython3",
   "version": "3.6.8"
  }
 },
 "nbformat": 4,
 "nbformat_minor": 0
}