{
 "cells": [
  {
   "cell_type": "code",
   "execution_count": 1,
   "metadata": {},
   "outputs": [
    {
     "name": "stdout",
     "output_type": "stream",
     "text": [
      "Enter marks of Eng : 75\n",
      "Enter marks of Maths : 80\n",
      "Enter marks of Statistics : 60\n",
      "Enter marks of Urdu : 76\n",
      "Enter marks of Physics : 70\n",
      "Total obtained marks: 361/500\n",
      "Percentage: 72.2%\n",
      "Grade : A\n"
     ]
    }
   ],
   "source": [
    "subjects = ['Eng','Maths','Statistics','Urdu','Physics']\n",
    "total_obtain_marks = 0\n",
    "total = 500\n",
    "for sub in subjects:\n",
    "    sub = int(input('Enter marks of '+ sub + ' : '))\n",
    "    total_obtain_marks += sub\n",
    "print('Total obtained marks: ' + str(total_obtain_marks) +'/500')\n",
    "percentage = (total_obtain_marks/total) * 100\n",
    "print('Percentage: '+str(percentage) + '%')\n",
    "if(percentage >= 80):\n",
    "    grade = 'A+'\n",
    "elif(percentage > 70 and percentage <= 79):\n",
    "    grade = 'A'\n",
    "elif(percentage > 60 and percentage <= 69):\n",
    "    grade = 'B'\n",
    "elif(percentage > 50 and percentage <= 59):\n",
    "    grade = 'C'\n",
    "elif(percentage < 50):\n",
    "    grade = 'Try Again'\n",
    "print('Grade : ' + grade)"
   ]
  },
  {
   "cell_type": "code",
   "execution_count": 2,
   "metadata": {},
   "outputs": [
    {
     "name": "stdout",
     "output_type": "stream",
     "text": [
      "Enter no.: 5\n",
      "Odd\n"
     ]
    }
   ],
   "source": [
    "num = int(input('Enter no.: '))\n",
    "if(num%2 == 0):\n",
    "    print(\"Even\")\n",
    "else:\n",
    "    print('Odd')"
   ]
  },
  {
   "cell_type": "code",
   "execution_count": 3,
   "metadata": {},
   "outputs": [
    {
     "name": "stdout",
     "output_type": "stream",
     "text": [
      "5\n"
     ]
    }
   ],
   "source": [
    "subjects = ['Eng','Maths','Statistics','Urdu','Physics']\n",
    "print(len(subjects))"
   ]
  },
  {
   "cell_type": "code",
   "execution_count": 4,
   "metadata": {},
   "outputs": [
    {
     "name": "stdout",
     "output_type": "stream",
     "text": [
      "12\n"
     ]
    }
   ],
   "source": [
    "numbers_list = [1, 1, 2, 3, 5]\n",
    "num = 0\n",
    "for no in numbers_list:\n",
    "    num += no\n",
    "print(num)"
   ]
  },
  {
   "cell_type": "code",
   "execution_count": 5,
   "metadata": {},
   "outputs": [
    {
     "name": "stdout",
     "output_type": "stream",
     "text": [
      "1\n",
      "1\n",
      "2\n",
      "3\n"
     ]
    }
   ],
   "source": [
    "a = [1, 1, 2, 3, 5, 8, 13, 21, 34, 55, 89]\n",
    "for num in a:\n",
    "    if(num < 5):\n",
    "        print(num)\n"
   ]
  }
 ],
 "metadata": {
  "kernelspec": {
   "display_name": "Python 3",
   "language": "python",
   "name": "python3"
  },
  "language_info": {
   "codemirror_mode": {
    "name": "ipython",
    "version": 3
   },
   "file_extension": ".py",
   "mimetype": "text/x-python",
   "name": "python",
   "nbconvert_exporter": "python",
   "pygments_lexer": "ipython3",
   "version": "3.7.3"
  }
 },
 "nbformat": 4,
 "nbformat_minor": 2
}
